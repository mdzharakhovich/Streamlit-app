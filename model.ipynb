{
 "cells": [
  {
   "cell_type": "markdown",
   "metadata": {},
   "source": [
    "## Задание"
   ]
  },
  {
   "cell_type": "markdown",
   "metadata": {},
   "source": [
    "Давайте сначала загрузим все необходимые нам библиотеки"
   ]
  },
  {
   "cell_type": "code",
   "execution_count": 3,
   "metadata": {},
   "outputs": [],
   "source": [
    "#your code here\n",
    "\n",
    "import pandas as pd\n",
    "import numpy as np\n",
    "import matplotlib.pyplot as plt\n",
    "import random\n",
    "import seaborn as sns\n",
    "import re\n",
    "import matplotlib.pyplot as plt\n",
    "\n",
    "random.seed(42)\n",
    "np.random.seed(42)\n",
    "\n",
    "# все, которые еще сочтете нужными"
   ]
  },
  {
   "cell_type": "markdown",
   "metadata": {},
   "source": [
    "Загрузите набор данных *data.adult.csv*. Чтобы лучше понимать, с чем вы работаете/корректно ли вы загрузили данные можно вывести несколько первых строк на экран."
   ]
  },
  {
   "cell_type": "code",
   "execution_count": 4,
   "metadata": {},
   "outputs": [
    {
     "data": {
      "text/html": [
       "<div>\n",
       "<style scoped>\n",
       "    .dataframe tbody tr th:only-of-type {\n",
       "        vertical-align: middle;\n",
       "    }\n",
       "\n",
       "    .dataframe tbody tr th {\n",
       "        vertical-align: top;\n",
       "    }\n",
       "\n",
       "    .dataframe thead th {\n",
       "        text-align: right;\n",
       "    }\n",
       "</style>\n",
       "<table border=\"1\" class=\"dataframe\">\n",
       "  <thead>\n",
       "    <tr style=\"text-align: right;\">\n",
       "      <th></th>\n",
       "      <th>age</th>\n",
       "      <th>workclass</th>\n",
       "      <th>fnlwgt</th>\n",
       "      <th>education</th>\n",
       "      <th>education-num</th>\n",
       "      <th>marital-status</th>\n",
       "      <th>occupation</th>\n",
       "      <th>relationship</th>\n",
       "      <th>race</th>\n",
       "      <th>sex</th>\n",
       "      <th>capital-gain</th>\n",
       "      <th>capital-loss</th>\n",
       "      <th>hours-per-week</th>\n",
       "      <th>&gt;50K,&lt;=50K</th>\n",
       "    </tr>\n",
       "  </thead>\n",
       "  <tbody>\n",
       "    <tr>\n",
       "      <th>0</th>\n",
       "      <td>34</td>\n",
       "      <td>Local-gov</td>\n",
       "      <td>284843</td>\n",
       "      <td>HS-grad</td>\n",
       "      <td>9</td>\n",
       "      <td>Never-married</td>\n",
       "      <td>Farming-fishing</td>\n",
       "      <td>Not-in-family</td>\n",
       "      <td>Black</td>\n",
       "      <td>Male</td>\n",
       "      <td>594</td>\n",
       "      <td>0</td>\n",
       "      <td>60</td>\n",
       "      <td>&lt;=50K</td>\n",
       "    </tr>\n",
       "    <tr>\n",
       "      <th>1</th>\n",
       "      <td>40</td>\n",
       "      <td>Private</td>\n",
       "      <td>190290</td>\n",
       "      <td>Some-college</td>\n",
       "      <td>10</td>\n",
       "      <td>Divorced</td>\n",
       "      <td>Sales</td>\n",
       "      <td>Not-in-family</td>\n",
       "      <td>White</td>\n",
       "      <td>Male</td>\n",
       "      <td>0</td>\n",
       "      <td>0</td>\n",
       "      <td>40</td>\n",
       "      <td>&lt;=50K</td>\n",
       "    </tr>\n",
       "    <tr>\n",
       "      <th>2</th>\n",
       "      <td>36</td>\n",
       "      <td>Local-gov</td>\n",
       "      <td>177858</td>\n",
       "      <td>Bachelors</td>\n",
       "      <td>13</td>\n",
       "      <td>Married-civ-spouse</td>\n",
       "      <td>Prof-specialty</td>\n",
       "      <td>Own-child</td>\n",
       "      <td>White</td>\n",
       "      <td>Male</td>\n",
       "      <td>0</td>\n",
       "      <td>0</td>\n",
       "      <td>40</td>\n",
       "      <td>&lt;=50K</td>\n",
       "    </tr>\n",
       "    <tr>\n",
       "      <th>3</th>\n",
       "      <td>22</td>\n",
       "      <td>Private</td>\n",
       "      <td>184756</td>\n",
       "      <td>Some-college</td>\n",
       "      <td>10</td>\n",
       "      <td>Never-married</td>\n",
       "      <td>Sales</td>\n",
       "      <td>Own-child</td>\n",
       "      <td>White</td>\n",
       "      <td>Female</td>\n",
       "      <td>0</td>\n",
       "      <td>0</td>\n",
       "      <td>30</td>\n",
       "      <td>&lt;=50K</td>\n",
       "    </tr>\n",
       "    <tr>\n",
       "      <th>4</th>\n",
       "      <td>47</td>\n",
       "      <td>Private</td>\n",
       "      <td>149700</td>\n",
       "      <td>Bachelors</td>\n",
       "      <td>13</td>\n",
       "      <td>Married-civ-spouse</td>\n",
       "      <td>Tech-support</td>\n",
       "      <td>Husband</td>\n",
       "      <td>White</td>\n",
       "      <td>Male</td>\n",
       "      <td>15024</td>\n",
       "      <td>0</td>\n",
       "      <td>40</td>\n",
       "      <td>&gt;50K</td>\n",
       "    </tr>\n",
       "  </tbody>\n",
       "</table>\n",
       "</div>"
      ],
      "text/plain": [
       "   age  workclass  fnlwgt     education  education-num      marital-status  \\\n",
       "0   34  Local-gov  284843       HS-grad              9       Never-married   \n",
       "1   40    Private  190290  Some-college             10            Divorced   \n",
       "2   36  Local-gov  177858     Bachelors             13  Married-civ-spouse   \n",
       "3   22    Private  184756  Some-college             10       Never-married   \n",
       "4   47    Private  149700     Bachelors             13  Married-civ-spouse   \n",
       "\n",
       "        occupation   relationship   race     sex  capital-gain  capital-loss  \\\n",
       "0  Farming-fishing  Not-in-family  Black    Male           594             0   \n",
       "1            Sales  Not-in-family  White    Male             0             0   \n",
       "2   Prof-specialty      Own-child  White    Male             0             0   \n",
       "3            Sales      Own-child  White  Female             0             0   \n",
       "4     Tech-support        Husband  White    Male         15024             0   \n",
       "\n",
       "   hours-per-week >50K,<=50K  \n",
       "0              60      <=50K  \n",
       "1              40      <=50K  \n",
       "2              40      <=50K  \n",
       "3              30      <=50K  \n",
       "4              40       >50K  "
      ]
     },
     "execution_count": 4,
     "metadata": {},
     "output_type": "execute_result"
    }
   ],
   "source": [
    "#your code here\n",
    "data = pd.read_csv(\"data.adult.csv\")\n",
    "data.head()"
   ]
  },
  {
   "cell_type": "markdown",
   "metadata": {},
   "source": [
    "Иногда в данных встречаются пропуски. Как задаются пропуски обычно либо прописывается в описании к данным, либо просто на месте пропуска после чтения данных оказывается значение numpy.nan. Более подробно о работе с пропусками в Pandas можно прочитать например [здесь](http://pandas.pydata.org/pandas-docs/stable/missing_data.html).\n",
    "\n",
    "В данном датасете пропущенные значения обозначены как \"?\".\n",
    "\n",
    "**Задание 1 (1 балл)** Найдите все признаки, имеющие пропущенные значения. Удалите из выборки все объекты с пропусками."
   ]
  },
  {
   "cell_type": "code",
   "execution_count": 5,
   "metadata": {},
   "outputs": [
    {
     "data": {
      "text/plain": [
       "age               0\n",
       "workclass         0\n",
       "fnlwgt            0\n",
       "education         0\n",
       "education-num     0\n",
       "marital-status    0\n",
       "occupation        0\n",
       "relationship      0\n",
       "race              0\n",
       "sex               0\n",
       "capital-gain      0\n",
       "capital-loss      0\n",
       "hours-per-week    0\n",
       ">50K,<=50K        0\n",
       "dtype: int64"
      ]
     },
     "execution_count": 5,
     "metadata": {},
     "output_type": "execute_result"
    }
   ],
   "source": [
    "# если сделаем просто поиск пропущенных, \n",
    "# их не будет, тк они обозначены \"?\"\n",
    "data.isnull().sum()"
   ]
  },
  {
   "cell_type": "code",
   "execution_count": 6,
   "metadata": {},
   "outputs": [
    {
     "data": {
      "text/plain": [
       "age                 0\n",
       "workclass         929\n",
       "fnlwgt              0\n",
       "education           0\n",
       "education-num       0\n",
       "marital-status      0\n",
       "occupation        933\n",
       "relationship        0\n",
       "race                0\n",
       "sex                 0\n",
       "capital-gain        0\n",
       "capital-loss        0\n",
       "hours-per-week      0\n",
       ">50K,<=50K          0\n",
       "dtype: int64"
      ]
     },
     "execution_count": 6,
     "metadata": {},
     "output_type": "execute_result"
    }
   ],
   "source": [
    "# пропущенные значения заменяем на numpy.nan\n",
    "data.replace(\"?\", np.nan, inplace=True)\n",
    "data.isnull().sum()"
   ]
  },
  {
   "cell_type": "code",
   "execution_count": 7,
   "metadata": {},
   "outputs": [
    {
     "data": {
      "text/plain": [
       "age               0\n",
       "workclass         0\n",
       "fnlwgt            0\n",
       "education         0\n",
       "education-num     0\n",
       "marital-status    0\n",
       "occupation        0\n",
       "relationship      0\n",
       "race              0\n",
       "sex               0\n",
       "capital-gain      0\n",
       "capital-loss      0\n",
       "hours-per-week    0\n",
       ">50K,<=50K        0\n",
       "dtype: int64"
      ]
     },
     "execution_count": 7,
     "metadata": {},
     "output_type": "execute_result"
    }
   ],
   "source": [
    "data_clean = data.dropna()\n",
    "data_clean.isnull().sum()"
   ]
  },
  {
   "cell_type": "markdown",
   "metadata": {},
   "source": [
    "Обычно после загрузки датасета всегда необходима его некоторая предобработка. В данном случае она будет заключаться в следующем:\n",
    "\n",
    " - Выделите целевую переменную в отдельную переменную, удалите ее из датасета и преобразуйте к бинарному формату (название целевой переменной >50K,<=50K)\n",
    " - Обратите внимание, что не все признаки являются вещественными. В начале мы будем работать только с вещественными признаками. Выделите их отдельно."
   ]
  },
  {
   "cell_type": "code",
   "execution_count": 8,
   "metadata": {},
   "outputs": [
    {
     "data": {
      "text/plain": [
       "0        <=50K\n",
       "1        <=50K\n",
       "2        <=50K\n",
       "3        <=50K\n",
       "4         >50K\n",
       "         ...  \n",
       "16275    <=50K\n",
       "16276     >50K\n",
       "16277    <=50K\n",
       "16278    <=50K\n",
       "16279     >50K\n",
       "Name: >50K,<=50K, Length: 15347, dtype: object"
      ]
     },
     "execution_count": 8,
     "metadata": {},
     "output_type": "execute_result"
    }
   ],
   "source": [
    "data_clean['>50K,<=50K']"
   ]
  },
  {
   "cell_type": "code",
   "execution_count": 9,
   "metadata": {},
   "outputs": [
    {
     "data": {
      "text/html": [
       "<div>\n",
       "<style scoped>\n",
       "    .dataframe tbody tr th:only-of-type {\n",
       "        vertical-align: middle;\n",
       "    }\n",
       "\n",
       "    .dataframe tbody tr th {\n",
       "        vertical-align: top;\n",
       "    }\n",
       "\n",
       "    .dataframe thead th {\n",
       "        text-align: right;\n",
       "    }\n",
       "</style>\n",
       "<table border=\"1\" class=\"dataframe\">\n",
       "  <thead>\n",
       "    <tr style=\"text-align: right;\">\n",
       "      <th></th>\n",
       "      <th>age</th>\n",
       "      <th>fnlwgt</th>\n",
       "      <th>education-num</th>\n",
       "      <th>capital-gain</th>\n",
       "      <th>capital-loss</th>\n",
       "      <th>hours-per-week</th>\n",
       "    </tr>\n",
       "  </thead>\n",
       "  <tbody>\n",
       "    <tr>\n",
       "      <th>0</th>\n",
       "      <td>34</td>\n",
       "      <td>284843</td>\n",
       "      <td>9</td>\n",
       "      <td>594</td>\n",
       "      <td>0</td>\n",
       "      <td>60</td>\n",
       "    </tr>\n",
       "    <tr>\n",
       "      <th>1</th>\n",
       "      <td>40</td>\n",
       "      <td>190290</td>\n",
       "      <td>10</td>\n",
       "      <td>0</td>\n",
       "      <td>0</td>\n",
       "      <td>40</td>\n",
       "    </tr>\n",
       "    <tr>\n",
       "      <th>2</th>\n",
       "      <td>36</td>\n",
       "      <td>177858</td>\n",
       "      <td>13</td>\n",
       "      <td>0</td>\n",
       "      <td>0</td>\n",
       "      <td>40</td>\n",
       "    </tr>\n",
       "    <tr>\n",
       "      <th>3</th>\n",
       "      <td>22</td>\n",
       "      <td>184756</td>\n",
       "      <td>10</td>\n",
       "      <td>0</td>\n",
       "      <td>0</td>\n",
       "      <td>30</td>\n",
       "    </tr>\n",
       "    <tr>\n",
       "      <th>4</th>\n",
       "      <td>47</td>\n",
       "      <td>149700</td>\n",
       "      <td>13</td>\n",
       "      <td>15024</td>\n",
       "      <td>0</td>\n",
       "      <td>40</td>\n",
       "    </tr>\n",
       "  </tbody>\n",
       "</table>\n",
       "</div>"
      ],
      "text/plain": [
       "   age  fnlwgt  education-num  capital-gain  capital-loss  hours-per-week\n",
       "0   34  284843              9           594             0              60\n",
       "1   40  190290             10             0             0              40\n",
       "2   36  177858             13             0             0              40\n",
       "3   22  184756             10             0             0              30\n",
       "4   47  149700             13         15024             0              40"
      ]
     },
     "execution_count": 9,
     "metadata": {},
     "output_type": "execute_result"
    }
   ],
   "source": [
    "#your code here\n",
    "income = data_clean['>50K,<=50K']\n",
    "\n",
    "data_clean.drop(columns = ['>50K,<=50K'])\n",
    "\n",
    "income = income.map({'>50K': 1, '<=50K': 0})\n",
    "\n",
    "num_data = data_clean.select_dtypes(include=['float64', 'int64'])\n",
    "\n",
    "num_data.head()"
   ]
  },
  {
   "cell_type": "markdown",
   "metadata": {},
   "source": [
    "## Обучение классификаторов на вещественных признаках\n",
    "\n",
    "В данном разделе необходимо будет работать только с вещественными признаками и целевой переменной.\n",
    "\n",
    "В начале посмотрим как работает подбор параметров по сетке и как влияет на качество разбиение выборки. Сейчас и далее будем рассматривать 3 алгоритма:\n",
    " - [DecisonTree](http://scikit-learn.org/stable/modules/generated/sklearn.tree.DecisionTreeClassifier.html#sklearn.tree.DecisionTreeClassifier)\n",
    " - [RandomForest](http://scikit-learn.org/stable/modules/generated/sklearn.ensemble.RandomForestClassifier.html)\n",
    " - [GradientBoosting](https://scikit-learn.org/stable/modules/generated/sklearn.ensemble.GradientBoostingClassifier.html)\n",
    "\n",
    "Для начала выберем один гиперпараметр, который будем оптимизировать:\n",
    " - (*max_depth*)\n",
    "\n",
    "Остальные параметры оставляйте в значениях по умолчанию. Для подбора гиперпараметров воспользуйтесь перебором по сетке, который реализован в классе [GridSearchCV](https://scikit-learn.org/stable/modules/generated/sklearn.model_selection.GridSearchCV.html). В качестве схемы кросс-валидации используйте 5-fold cv, которую можно задать с помощью класса [KFold](https://scikit-learn.org/stable/modules/generated/sklearn.model_selection.KFold.html).\n",
    "\n",
    "**Задание 2 (2 балла)** Для каждого из трех алгоритмов подберите оптимальные значения указанных гиперпараметров."
   ]
  },
  {
   "cell_type": "code",
   "execution_count": 10,
   "metadata": {},
   "outputs": [],
   "source": [
    "#your code here\n",
    "from sklearn.model_selection import GridSearchCV, KFold\n",
    "from sklearn.tree import DecisionTreeClassifier\n",
    "from sklearn.ensemble import RandomForestClassifier, GradientBoostingClassifier\n",
    "from sklearn.metrics import accuracy_score\n",
    "from sklearn.model_selection import train_test_split"
   ]
  },
  {
   "cell_type": "code",
   "execution_count": 11,
   "metadata": {},
   "outputs": [
    {
     "name": "stdout",
     "output_type": "stream",
     "text": [
      "Подбор гиперпараметров для DecisionTree:\n"
     ]
    },
    {
     "name": "stdout",
     "output_type": "stream",
     "text": [
      "Лучшие параметры: {'max_depth': 5}\n",
      "Лучшее значение accuracy на кросс-валидации: 0.8224\n",
      "Accuracy на тестовой выборке: 0.8189\n",
      "--------------------------------------------------\n",
      "Подбор гиперпараметров для RandomForest:\n",
      "Лучшие параметры: {'max_depth': 10}\n",
      "Лучшее значение accuracy на кросс-валидации: 0.8270\n",
      "Accuracy на тестовой выборке: 0.8218\n",
      "--------------------------------------------------\n",
      "Подбор гиперпараметров для GradientBoosting:\n",
      "Лучшие параметры: {'max_depth': 5}\n",
      "Лучшее значение accuracy на кросс-валидации: 0.8357\n",
      "Accuracy на тестовой выборке: 0.8332\n",
      "--------------------------------------------------\n"
     ]
    }
   ],
   "source": [
    "X_train, X_test, y_train, y_test = train_test_split(num_data, income, test_size=0.2, random_state=42)\n",
    "\n",
    "# Определение параметров для GridSearchCV\n",
    "param_grid = {\n",
    "    'max_depth': [None, 3, 5, 10, 15, 20]  # Возможные значения max_depth\n",
    "}\n",
    "\n",
    "# Определение схемы кросс-валидации\n",
    "cv = KFold(n_splits=5, shuffle=True, random_state=42)\n",
    "\n",
    "# Список моделей для подбора гиперпараметров\n",
    "models = [\n",
    "    ('DecisionTree', DecisionTreeClassifier(random_state=42)),\n",
    "    ('RandomForest', RandomForestClassifier(random_state=42)),\n",
    "    ('GradientBoosting', GradientBoostingClassifier(random_state=42))\n",
    "]\n",
    "\n",
    "# Подбор гиперпараметров для каждой модели\n",
    "for model_name, model in models:\n",
    "    print(f\"Подбор гиперпараметров для {model_name}:\")\n",
    "    grid_search = GridSearchCV(estimator=model, param_grid=param_grid, cv=cv, scoring='accuracy', n_jobs=-1)\n",
    "    grid_search.fit(X_train, y_train)\n",
    "    \n",
    "    # Вывод лучших параметров и лучшего результата\n",
    "    print(f\"Лучшие параметры: {grid_search.best_params_}\")\n",
    "    print(f\"Лучшее значение accuracy на кросс-валидации: {grid_search.best_score_:.4f}\")\n",
    "    \n",
    "    # Оценка модели на тестовой выборке\n",
    "    y_pred = grid_search.predict(X_test)\n",
    "    test_accuracy = accuracy_score(y_test, y_pred)\n",
    "    print(f\"Accuracy на тестовой выборке: {test_accuracy:.4f}\")\n",
    "    print(\"-\" * 50)"
   ]
  },
  {
   "cell_type": "markdown",
   "metadata": {},
   "source": [
    "Что вы можете сказать?"
   ]
  },
  {
   "cell_type": "markdown",
   "metadata": {},
   "source": [
    "- Видим, что на глубине 5 и при градиентном бустинге достигаются самые лучшие показатели точности (0,83 с копейками). Значит, из трех вариантов останавливаемся на последнем и дальше обучаем именно эту модель. "
   ]
  },
  {
   "cell_type": "markdown",
   "metadata": {},
   "source": [
    "**Задание 3 (1 балл)** Также подберём число деревьев (*n_estimators*) в алгоритме RandomForest. Как известно, в общем случае Random Forest не переобучается с увеличением количества деревьев, так что при увеличении этого гиперпараметра его качество не будет становиться хуже. Поэтому подберите такое количество деревьев, при котором качество на кросс-валидации стабилизируется. Обратите внимание, что для проведения этого эксперимента не нужно с нуля обучать много случайных лесов с различными количествами деревьев. Обучите один случайный лес с максимальным интересным количеством деревьев, а затем рассмотрите подмножества разных размеров, состоящие из деревьев построенного леса (поле [*estimators_*](http://scikit-learn.org/stable/modules/generated/sklearn.ensemble.RandomForestClassifier.html)). В дальнейших экспериментах используйте это количество деревьев.\n",
    "\n",
    "**Что значит \"качество стабилизируется\"?**\n",
    "\n",
    "Это означает, что при увеличении количества деревьев (n_estimators) метрика качества (например, точность или F1-score) перестает существенно расти. Например, если при n_estimators=100 точность составляет 0.90, а при n_estimators=200 — 0.91, а при n_estimators=500 — 0.911, то можно считать, что качество стабилизировалось при n_estimators=200.\n",
    "\n",
    "*(Пример искусственный)*"
   ]
  },
  {
   "cell_type": "code",
   "execution_count": 12,
   "metadata": {},
   "outputs": [
    {
     "name": "stdout",
     "output_type": "stream",
     "text": [
      "n_estimators = 10, CV accuracy = 0.8199\n",
      "n_estimators = 50, CV accuracy = 0.8233\n",
      "n_estimators = 100, CV accuracy = 0.8245\n",
      "n_estimators = 150, CV accuracy = 0.8254\n",
      "n_estimators = 200, CV accuracy = 0.8257\n",
      "n_estimators = 300, CV accuracy = 0.8269\n",
      "n_estimators = 400, CV accuracy = 0.8263\n",
      "n_estimators = 500, CV accuracy = 0.8260\n"
     ]
    },
    {
     "data": {
      "image/png": "[encoded data removed]",
      "text/plain": [
       "<Figure size 1000x600 with 1 Axes>"
      ]
     },
     "metadata": {},
     "output_type": "display_data"
    },
    {
     "name": "stdout",
     "output_type": "stream",
     "text": [
      "Качество стабилизируется при n_estimators = 150\n"
     ]
    }
   ],
   "source": [
    "#your code here\n",
    "from sklearn.ensemble import RandomForestClassifier\n",
    "from sklearn.model_selection import cross_val_score, KFold\n",
    "\n",
    "# Определение схемы кросс-валидации\n",
    "cv = KFold(n_splits=5, shuffle=True, random_state=42)\n",
    "\n",
    "# Обучение RandomForest с максимальным количеством деревьев\n",
    "max_estimators = 500  # Максимальное количество деревьев\n",
    "rf = RandomForestClassifier(n_estimators=max_estimators, max_depth=15, random_state=42, n_jobs=-1)\n",
    "rf.fit(X_train, y_train)\n",
    "\n",
    "# Список количеств деревьев для проверки\n",
    "n_estimators_list = [10, 50, 100, 150, 200, 300, 400, 500]\n",
    "\n",
    "# Оценка качества на кросс-валидации для разных подмножеств деревьев\n",
    "cv_scores = []\n",
    "for n_estimators in n_estimators_list:\n",
    "    # Используем только первые n_estimators деревьев\n",
    "    rf_subset = RandomForestClassifier(n_estimators=n_estimators, max_depth=15, random_state=42, n_jobs=-1)\n",
    "    rf_subset.estimators_ = rf.estimators_[:n_estimators]\n",
    "    \n",
    "    # Оценка качества на кросс-валидации\n",
    "    scores = cross_val_score(rf_subset, X_train, y_train, cv=cv, scoring='accuracy', n_jobs=-1)\n",
    "    cv_scores.append(scores.mean())\n",
    "    print(f\"n_estimators = {n_estimators}, CV accuracy = {scores.mean():.4f}\")\n",
    "\n",
    "# Визуализация зависимости качества от количества деревьев\n",
    "plt.figure(figsize=(10, 6))\n",
    "plt.plot(n_estimators_list, cv_scores, marker='o')\n",
    "plt.title('Зависимость качества от количества деревьев в RandomForest')\n",
    "plt.xlabel('Количество деревьев (n_estimators)')\n",
    "plt.ylabel('Точность на кросс-валидации (accuracy)')\n",
    "plt.grid(True)\n",
    "plt.show()\n",
    "\n",
    "# Определение количества деревьев, при котором качество стабилизируется\n",
    "for i in range(1, len(cv_scores)):\n",
    "    if cv_scores[i] - cv_scores[i - 1] < 0.001:  # Порог для стабилизации\n",
    "        print(f\"Качество стабилизируется при n_estimators = {n_estimators_list[i]}\")\n",
    "        break"
   ]
  },
  {
   "cell_type": "markdown",
   "metadata": {},
   "source": [
    "- Видим, что максимум качества (точности) достигается при числе деревьев, равном 300, а потом даже начинает падать. Впрочем, различия между 100 и 300 деревьями -- тысячные доли. \n",
    "- Ну а качество стабилизируется при 150 деревьях, так что нормально, на этом и остановимся. "
   ]
  },
  {
   "cell_type": "markdown",
   "metadata": {},
   "source": [
    "**Задание 4 (1 балл)** Подберём число деревьев (*n_estimators*) в алгоритме GradientBoosting. Мы знаем, что ошибка бустинга на тестовых данных, как правило, имеет U-образную форму, то есть сначала уменьшается, а при достижении некоторого числа деревьев начинает расти. Нарисуйте график ошибки в зависимости от числа деревьев. Подберите n_estimators, соответствующий минимуму ошибки."
   ]
  },
  {
   "cell_type": "code",
   "execution_count": 13,
   "metadata": {},
   "outputs": [
    {
     "name": "stdout",
     "output_type": "stream",
     "text": [
      "n_estimators = 10, CV accuracy = 0.8122\n",
      "n_estimators = 50, CV accuracy = 0.8325\n",
      "n_estimators = 100, CV accuracy = 0.8357\n",
      "n_estimators = 150, CV accuracy = 0.8346\n",
      "n_estimators = 200, CV accuracy = 0.8329\n",
      "n_estimators = 300, CV accuracy = 0.8294\n",
      "n_estimators = 400, CV accuracy = 0.8267\n",
      "n_estimators = 500, CV accuracy = 0.8237\n"
     ]
    },
    {
     "data": {
      "image/png": "[encoded data removed]",
      "text/plain": [
       "<Figure size 1000x600 with 1 Axes>"
      ]
     },
     "metadata": {},
     "output_type": "display_data"
    }
   ],
   "source": [
    "#your code here\n",
    "from sklearn.ensemble import GradientBoostingClassifier\n",
    "from sklearn.model_selection import cross_val_score, KFold\n",
    "\n",
    "# Определение схемы кросс-валидации\n",
    "cv = KFold(n_splits=5, shuffle=True, random_state=42)\n",
    "\n",
    "# Обучение GradientBoosting с максимальным количеством деревьев\n",
    "max_estimators = 500  # Максимальное количество деревьев\n",
    "gb = GradientBoostingClassifier(n_estimators=max_estimators, max_depth=5, random_state=42)\n",
    "gb.fit(X_train, y_train)\n",
    "\n",
    "# Список количеств деревьев для проверки\n",
    "n_estimators_list = [10, 50, 100, 150, 200, 300, 400, 500]\n",
    "\n",
    "# Оценка качества на кросс-валидации для разных подмножеств деревьев\n",
    "cv_scores = []\n",
    "for n_estimators in n_estimators_list:\n",
    "    # Используем только первые n_estimators деревьев\n",
    "    gb_subset = GradientBoostingClassifier(n_estimators=n_estimators, max_depth=5, random_state=42)\n",
    "    gb_subset.estimators_ = gb.estimators_[:n_estimators]\n",
    "    \n",
    "    # Оценка качества на кросс-валидации\n",
    "    scores = cross_val_score(gb_subset, X_train, y_train, cv=cv, scoring='accuracy', n_jobs=-1)\n",
    "    cv_scores.append(scores.mean())\n",
    "    print(f\"n_estimators = {n_estimators}, CV accuracy = {scores.mean():.4f}\")\n",
    "\n",
    "# Визуализация зависимости качества от количества деревьев\n",
    "plt.figure(figsize=(10, 6))\n",
    "plt.plot(n_estimators_list, cv_scores, marker='o')\n",
    "plt.title('Зависимость качества от количества деревьев в GradientBoosting')\n",
    "plt.xlabel('Количество деревьев (n_estimators)')\n",
    "plt.ylabel('Точность на кросс-валидации (accuracy)')\n",
    "plt.grid(True)\n",
    "plt.show()"
   ]
  },
  {
   "cell_type": "markdown",
   "metadata": {},
   "source": [
    "- Выше на графике видим, что точность начинает падать после 100 деревьев. "
   ]
  },
  {
   "cell_type": "markdown",
   "metadata": {},
   "source": [
    "При обучении алгоритмов стоит обращать внимание не только на качество, но и каким образом они работают с данными. В этой задаче получилось так, что некоторые из используемых алгоритмов чувствительны к масштабу признаков. Чтобы убедиться, что это как-то могло повлиять на качество давайте посмотрим на сами признаки.\n",
    "\n",
    "**Задание 5 (1 балл)** Постройте гистограммы для признаков *age*, *fnlwgt*, *capital-gain*. Глядя на получившиеся графики в чем заключается особенность данных? На какие алгоритмы это может повлиять? Может ли масшитабирование повлиять на работу этих алгоритмов?"
   ]
  },
  {
   "cell_type": "markdown",
   "metadata": {},
   "source": [
    "- Масштабирование может улучшить работу алгоритмов, чувствительных к масштабу признаков. \n",
    "- НО масштабирование не повлияет на работу деревьев решений, так как они не зависят от масштаба признаков."
   ]
  },
  {
   "cell_type": "code",
   "execution_count": 14,
   "metadata": {},
   "outputs": [
    {
     "data": {
      "image/png": "[encoded data removed]",
      "text/plain": [
       "<Figure size 1500x1000 with 3 Axes>"
      ]
     },
     "metadata": {},
     "output_type": "display_data"
    }
   ],
   "source": [
    "# Выбор признаков для анализа\n",
    "features_to_plot = ['age', 'fnlwgt', 'capital-gain']\n",
    "\n",
    "# Построение гистограмм\n",
    "plt.figure(figsize=(15, 10))\n",
    "for i, feature in enumerate(features_to_plot, 1):\n",
    "    plt.subplot(3, 1, i)\n",
    "    sns.histplot(num_data[feature], bins=30, kde=True, color='blue')\n",
    "    plt.title(f'Гистограмма признака {feature}')\n",
    "    plt.xlabel(feature)\n",
    "    plt.ylabel('Частота')\n",
    "\n",
    "plt.tight_layout()\n",
    "plt.show()"
   ]
  },
  {
   "cell_type": "markdown",
   "metadata": {},
   "source": [
    "Масштабирование признаков можно выполнить, например, одним из следующих способов способами:\n",
    " - $x_{new} = \\dfrac{x - \\mu}{\\sigma}$, где $\\mu, \\sigma$ — среднее и стандартное отклонение значения признака по всей выборке (см. функцию [scale](http://scikit-learn.org/stable/modules/generated/sklearn.preprocessing.scale.html))\n",
    " - $x_{new} = \\dfrac{x - x_{min}}{x_{max} - x_{min}}$, где $[x_{min}, x_{max}]$ — минимальный интервал значений признака\n",
    "\n",
    "Похожие схемы масштабирования приведены в классах [StandardScaler](http://scikit-learn.org/stable/modules/generated/sklearn.preprocessing.StandardScaler.html#sklearn.preprocessing.StandardScaler) и [MinMaxScaler](http://scikit-learn.org/stable/modules/generated/sklearn.preprocessing.MinMaxScaler.html#sklearn.preprocessing.MinMaxScaler).\n",
    "\n",
    "**Задание 6 (2 балла)** Масштабируйте все вещественные признаки одним из указанных способов и подберите оптимальные значения гиперпараметров аналогично пункту выше."
   ]
  },
  {
   "cell_type": "code",
   "execution_count": 15,
   "metadata": {},
   "outputs": [
    {
     "name": "stdout",
     "output_type": "stream",
     "text": [
      "Признаки до масштабирования:\n",
      "                age        fnlwgt  education-num  capital-gain  capital-loss  \\\n",
      "count  12277.000000  1.227700e+04   12277.000000  12277.000000  12277.000000   \n",
      "mean      38.471532  1.882798e+05      10.159892   1070.548587     88.793842   \n",
      "std       13.050911  1.061218e+05       2.556229   7213.694486    405.096253   \n",
      "min       17.000000  1.930200e+04       1.000000      0.000000      0.000000   \n",
      "25%       28.000000  1.157050e+05       9.000000      0.000000      0.000000   \n",
      "50%       37.000000  1.771470e+05      10.000000      0.000000      0.000000   \n",
      "75%       47.000000  2.358940e+05      13.000000      0.000000      0.000000   \n",
      "max       90.000000  1.484705e+06      16.000000  99999.000000   3770.000000   \n",
      "\n",
      "       hours-per-week  \n",
      "count    12277.000000  \n",
      "mean        40.995439  \n",
      "std         11.960610  \n",
      "min          1.000000  \n",
      "25%         40.000000  \n",
      "50%         40.000000  \n",
      "75%         45.000000  \n",
      "max         99.000000  \n"
     ]
    }
   ],
   "source": [
    "print(\"Признаки до масштабирования:\")\n",
    "print(pd.DataFrame(X_train, columns=X_train.columns).describe())"
   ]
  },
  {
   "cell_type": "code",
   "execution_count": null,
   "metadata": {},
   "outputs": [
    {
     "name": "stdout",
     "output_type": "stream",
     "text": [
      "Признаки после масштабирования:\n",
      "                age        fnlwgt  education-num  capital-gain  capital-loss  \\\n",
      "count  1.227700e+04  1.227700e+04   1.227700e+04  1.227700e+04  1.227700e+04   \n",
      "mean  -1.687083e-16 -8.594575e-17  -3.241052e-17  3.588307e-17 -5.585027e-17   \n",
      "std    1.000041e+00  1.000041e+00   1.000041e+00  1.000041e+00  1.000041e+00   \n",
      "min   -1.645280e+00 -1.592366e+00  -3.583508e+00 -1.484111e-01 -2.192009e-01   \n",
      "25%   -8.023929e-01 -6.839103e-01  -4.537699e-01 -1.484111e-01 -2.192009e-01   \n",
      "50%   -1.127578e-01 -1.049103e-01  -6.255269e-02 -1.484111e-01 -2.192009e-01   \n",
      "75%    6.535035e-01  4.486934e-01   1.111099e+00 -1.484111e-01 -2.192009e-01   \n",
      "max    3.948427e+00  1.221689e+01   2.284751e+00  1.371454e+01  9.087608e+00   \n",
      "\n",
      "       hours-per-week  \n",
      "count    1.227700e+04  \n",
      "mean    -1.140156e-16  \n",
      "std      1.000041e+00  \n",
      "min     -3.344066e+00  \n",
      "25%     -8.322980e-02  \n",
      "50%     -8.322980e-02  \n",
      "75%      3.348261e-01  \n",
      "max      4.849830e+00  \n",
      "Подбор гиперпараметров для Logistic Regression:\n",
      "Лучшие параметры: {'C': 1, 'penalty': 'l2'}\n",
      "Лучшее значение accuracy на кросс-валидации: 0.8055\n",
      "Accuracy на тестовой выборке: 0.8085\n",
      "--------------------------------------------------\n",
      "Подбор гиперпараметров для KNN:\n",
      "Лучшие параметры: {'n_neighbors': 30}\n",
      "Лучшее значение accuracy на кросс-валидации: 0.8116\n",
      "Accuracy на тестовой выборке: 0.8111\n",
      "--------------------------------------------------\n",
      "Подбор гиперпараметров для Random Forest:\n",
      "Лучшие параметры: {'max_depth': 10, 'n_estimators': 300}\n",
      "Лучшее значение accuracy на кросс-валидации: 0.8284\n",
      "Accuracy на тестовой выборке: 0.8235\n",
      "--------------------------------------------------\n",
      "Подбор гиперпараметров для Gradient Boosting:\n"
     ]
    }
   ],
   "source": [
    "from sklearn.preprocessing import StandardScaler\n",
    "from sklearn.model_selection import GridSearchCV, KFold\n",
    "from sklearn.linear_model import LogisticRegression\n",
    "from sklearn.neighbors import KNeighborsClassifier\n",
    "from sklearn.ensemble import RandomForestClassifier, GradientBoostingClassifier\n",
    "from sklearn.metrics import accuracy_score\n",
    "\n",
    "# Масштабирование признаков\n",
    "scaler = StandardScaler()\n",
    "X_train_scaled = scaler.fit_transform(X_train)\n",
    "X_test_scaled = scaler.transform(X_test)\n",
    "\n",
    "# Проверка масштабированных данных\n",
    "print(\"Признаки после масштабирования:\")\n",
    "print(pd.DataFrame(X_train_scaled, columns=X_train.columns).describe())\n",
    "\n",
    "# Определение параметров для GridSearchCV\n",
    "param_grid_logreg = {\n",
    "    'C': [0.01, 0.1, 1, 10, 100],  # Параметр регуляризации\n",
    "    'penalty': ['l2'],  # Используем только 'l2', так как 'lbfgs' поддерживает только 'l2'\n",
    "}\n",
    "\n",
    "param_grid_knn = {\n",
    "    'n_neighbors': [3, 5, 10, 20, 30]  # Количество соседей\n",
    "}\n",
    "\n",
    "param_grid_rf = {\n",
    "    'max_depth': [None, 3, 5, 10, 15, 20],  # Максимальная глубина дерева\n",
    "    'n_estimators': [50, 100, 150, 200, 300]  # Количество деревьев\n",
    "}\n",
    "\n",
    "param_grid_gb = {\n",
    "    'max_depth': [3, 5, 10, 15],  # Максимальная глубина дерева\n",
    "    'n_estimators': [50, 100, 150, 200, 300]  # Количество деревьев\n",
    "}\n",
    "\n",
    "# Определение схемы кросс-валидации\n",
    "cv = KFold(n_splits=5, shuffle=True, random_state=42)\n",
    "\n",
    "# Список моделей для подбора гиперпараметров\n",
    "models = [\n",
    "    ('Logistic Regression', LogisticRegression(random_state=42, max_iter=1000, solver='lbfgs'), param_grid_logreg),\n",
    "    ('KNN', KNeighborsClassifier(), param_grid_knn),\n",
    "    ('Random Forest', RandomForestClassifier(random_state=42), param_grid_rf),\n",
    "    ('Gradient Boosting', GradientBoostingClassifier(random_state=42), param_grid_gb)\n",
    "]\n",
    "\n",
    "# Подбор гиперпараметров для каждой модели\n",
    "for model_name, model, param_grid in models:\n",
    "    print(f\"Подбор гиперпараметров для {model_name}:\")\n",
    "    \n",
    "    # Если это Logistic Regression или KNN, используем масштабированные данные\n",
    "    if model_name in ['Logistic Regression', 'KNN']:\n",
    "        grid_search = GridSearchCV(estimator=model, param_grid=param_grid, cv=cv, scoring='accuracy', n_jobs=-1)\n",
    "        grid_search.fit(X_train_scaled, y_train)\n",
    "    else:\n",
    "        # Для деревьев решений используем исходные данные\n",
    "        grid_search = GridSearchCV(estimator=model, param_grid=param_grid, cv=cv, scoring='accuracy', n_jobs=-1)\n",
    "        grid_search.fit(X_train, y_train)\n",
    "    \n",
    "    # Вывод лучших параметров и лучшего результата\n",
    "    print(f\"Лучшие параметры: {grid_search.best_params_}\")\n",
    "    print(f\"Лучшее значение accuracy на кросс-валидации: {grid_search.best_score_:.4f}\")\n",
    "    \n",
    "    # Оценка модели на тестовой выборке\n",
    "    if model_name in ['Logistic Regression', 'KNN']:\n",
    "        y_pred = grid_search.predict(X_test_scaled)\n",
    "    else:\n",
    "        y_pred = grid_search.predict(X_test)\n",
    "    \n",
    "    test_accuracy = accuracy_score(y_test, y_pred)\n",
    "    print(f\"Accuracy на тестовой выборке: {test_accuracy:.4f}\")\n",
    "    print(\"-\" * 50)"
   ]
  },
  {
   "cell_type": "markdown",
   "metadata": {},
   "source": [
    "Изменилось ли качество у некоторых алгоритмов?"
   ]
  },
  {
   "cell_type": "markdown",
   "metadata": {},
   "source": [
    "- Да, качество у алгоритмов изменилось, но незначительно. По-прежнему наиболее высокая точность -- у модели с градиентным бустингом (0,83); тут качество даже чуточку выросло после масштабирования, но всего на чуть менее одной сотой доли."
   ]
  },
  {
   "cell_type": "markdown",
   "metadata": {},
   "source": [
    "**Задание 7 (3 балла)** Теперь сделайте перебор нескольких гиперпараметров по сетке и найдите оптимальные комбинации (лучшее среднее значение качества) для каждого алгоритма в данном случае:\n",
    " - DecisonTree — глубина дерева (*max_depth*) и критерий разбиения (*criterion*)\n",
    " - RandomForest — критерий разбиения в деревьях (*criterion*) и *max_features* (при фиксированном количестве деревьев, найденном ранее)\n",
    " - GradientBoosting — критерий разбиения в деревьях (*criterion*) и *max_features* (при фиксированном количестве деревьев, найденном ранее)\n",
    "\n",
    "Обратите внимание, что эта операция может быть ресурсо- и трудоемкой. Как оптимизировать подбор параметров по сетке сказано в разделе \"Подбор гиперпараметров модели\""
   ]
  },
  {
   "cell_type": "code",
   "execution_count": null,
   "metadata": {},
   "outputs": [
    {
     "name": "stdout",
     "output_type": "stream",
     "text": [
      "Подбор гиперпараметров для DecisionTree:\n",
      "Лучшие параметры: {'criterion': 'gini', 'max_depth': 5}\n",
      "Лучшее значение accuracy на кросс-валидации: 0.8224\n",
      "Accuracy на тестовой выборке: 0.8189\n",
      "--------------------------------------------------\n",
      "Подбор гиперпараметров для RandomForest:\n",
      "Лучшие параметры: {'criterion': 'entropy', 'max_features': None}\n",
      "Лучшее значение accuracy на кросс-валидации: 0.8037\n",
      "Accuracy на тестовой выборке: 0.8000\n",
      "--------------------------------------------------\n",
      "Подбор гиперпараметров для GradientBoosting:\n",
      "Лучшие параметры: {'criterion': 'friedman_mse', 'max_features': None}\n",
      "Лучшее значение accuracy на кросс-валидации: 0.8310\n",
      "Accuracy на тестовой выборке: 0.8283\n",
      "--------------------------------------------------\n"
     ]
    }
   ],
   "source": [
    "#your code here\n",
    "from sklearn.tree import DecisionTreeClassifier\n",
    "from sklearn.ensemble import RandomForestClassifier, GradientBoostingClassifier\n",
    "from sklearn.model_selection import GridSearchCV, KFold\n",
    "from sklearn.metrics import accuracy_score\n",
    "\n",
    "# Определение схемы кросс-валидации\n",
    "cv = KFold(n_splits=5, shuffle=True, random_state=42)\n",
    "\n",
    "# Определение параметров для GridSearchCV\n",
    "param_grid_dt = {\n",
    "    'max_depth': [None, 3, 5, 10, 15, 20],  # Глубина дерева\n",
    "    'criterion': ['gini', 'entropy']  # Критерий разбиения\n",
    "}\n",
    "\n",
    "param_grid_rf = {\n",
    "    'criterion': ['gini', 'entropy'],  # Критерий разбиения\n",
    "    'max_features': ['sqrt', 'log2', None]  # Максимальное количество признаков\n",
    "}\n",
    "\n",
    "param_grid_gb = {\n",
    "    'criterion': ['friedman_mse', 'squared_error'],  # Критерий разбиения\n",
    "    'max_features': ['sqrt', 'log2', None]  # Максимальное количество признаков\n",
    "}\n",
    "\n",
    "# Список моделей для подбора гиперпараметров\n",
    "models = [\n",
    "    ('DecisionTree', DecisionTreeClassifier(random_state=42), param_grid_dt),\n",
    "    ('RandomForest', RandomForestClassifier(n_estimators=200, random_state=42), param_grid_rf),\n",
    "    ('GradientBoosting', GradientBoostingClassifier(n_estimators=100, random_state=42), param_grid_gb)\n",
    "]\n",
    "\n",
    "# Подбор гиперпараметров для каждой модели\n",
    "for model_name, model, param_grid in models:\n",
    "    print(f\"Подбор гиперпараметров для {model_name}:\")\n",
    "    \n",
    "    # GridSearchCV для подбора гиперпараметров\n",
    "    grid_search = GridSearchCV(estimator=model, param_grid=param_grid, cv=cv, scoring='accuracy', n_jobs=-1)\n",
    "    grid_search.fit(X_train, y_train)\n",
    "    \n",
    "    # Вывод лучших параметров и лучшего результата\n",
    "    print(f\"Лучшие параметры: {grid_search.best_params_}\")\n",
    "    print(f\"Лучшее значение accuracy на кросс-валидации: {grid_search.best_score_:.4f}\")\n",
    "    \n",
    "    # Оценка модели на тестовой выборке\n",
    "    y_pred = grid_search.predict(X_test)\n",
    "    test_accuracy = accuracy_score(y_test, y_pred)\n",
    "    print(f\"Accuracy на тестовой выборке: {test_accuracy:.4f}\")\n",
    "    print(\"-\" * 50)"
   ]
  },
  {
   "cell_type": "markdown",
   "metadata": {},
   "source": [
    "Какой из алгоритмов имеет наилучшее качество?"
   ]
  },
  {
   "cell_type": "markdown",
   "metadata": {},
   "source": [
    "- Наилучшее качество -- все еще у алгоритма с градиентным бустингом. И лучшим параметром оказался MSE 'friedman_mse'."
   ]
  },
  {
   "cell_type": "markdown",
   "metadata": {},
   "source": [
    "**Задание 8 (1 балла)** Сравните алгоритмы с точки зрения времени обучения с помощью библиотеки [time](https://www.geeksforgeeks.org/python-time-module/) или [tqdm](https://pypi.org/project/tqdm/). Обучение какого из алгоритмов работает дольше всего и, как вы думаете, почему?"
   ]
  },
  {
   "cell_type": "code",
   "execution_count": null,
   "metadata": {},
   "outputs": [
    {
     "name": "stdout",
     "output_type": "stream",
     "text": [
      "Обучение модели: Logistic Regression\n",
      "Время обучения: 0.3124 секунд\n",
      "--------------------------------------------------\n",
      "Обучение модели: KNN\n",
      "Время обучения: 0.0119 секунд\n",
      "--------------------------------------------------\n",
      "Обучение модели: DecisionTree\n",
      "Время обучения: 0.0420 секунд\n",
      "--------------------------------------------------\n",
      "Обучение модели: RandomForest\n",
      "Время обучения: 2.8895 секунд\n",
      "--------------------------------------------------\n",
      "Обучение модели: GradientBoosting\n",
      "Время обучения: 0.4951 секунд\n",
      "--------------------------------------------------\n"
     ]
    }
   ],
   "source": [
    "#your code here\n",
    "import time\n",
    "from sklearn.tree import DecisionTreeClassifier\n",
    "from sklearn.ensemble import RandomForestClassifier, GradientBoostingClassifier\n",
    "from sklearn.linear_model import LogisticRegression\n",
    "from sklearn.neighbors import KNeighborsClassifier\n",
    "\n",
    "# Список моделей для сравнения\n",
    "models = [\n",
    "    ('Logistic Regression', LogisticRegression(C=1, penalty='l2', random_state=42, max_iter=1000)),\n",
    "    ('KNN', KNeighborsClassifier(n_neighbors=30)),\n",
    "    ('DecisionTree', DecisionTreeClassifier(criterion='gini', max_depth=10, random_state=42)),\n",
    "    ('RandomForest', RandomForestClassifier(n_estimators=200, criterion='gini', max_features='sqrt', random_state=42)),\n",
    "    ('GradientBoosting', GradientBoostingClassifier(n_estimators=100, criterion='friedman_mse', max_features='sqrt', random_state=42))\n",
    "]\n",
    "\n",
    "# Сравнение времени обучения\n",
    "for model_name, model in models:\n",
    "    print(f\"Обучение модели: {model_name}\")\n",
    "    \n",
    "    # Замер времени обучения\n",
    "    start_time = time.time()\n",
    "    model.fit(X_train, y_train)\n",
    "    end_time = time.time()\n",
    "    \n",
    "    # Вывод времени обучения\n",
    "    training_time = end_time - start_time\n",
    "    print(f\"Время обучения: {training_time:.4f} секунд\")\n",
    "    print(\"-\" * 50)"
   ]
  },
  {
   "cell_type": "markdown",
   "metadata": {},
   "source": [
    "- Дольше всего работает обучение RandomForest (целых 1.8 секунды!), потому что обучается куча деревьев. В нашем случае 200 штук. \n",
    "- Странно, правда, что случайный лес оказался дольше градиентного бустинга. А, ну хотя в бустинге у нас n=100, а в случайном лесе n=200. Тогда понятно."
   ]
  },
  {
   "cell_type": "markdown",
   "metadata": {},
   "source": [
    "## Добавление категориальных признаков в модели\n",
    "\n",
    "Пока мы не использовали нечисловые признаки, которые есть в датасете. Давайте посмотрим, правильно ли мы сделали и увеличится ли качество моделей после добавлениях этих признаков.\n",
    "\n",
    "**Задание 9 (1 балл)** Преобразуйте все категориальные признаки с помощью метода one-hot-encoding (например, это можно сделать с помощью функции [OneHotEncoder](https://scikit-learn.org/stable/modules/generated/sklearn.preprocessing.OneHotEncoder.html), [pandas.get_dummies](http://pandas.pydata.org/pandas-docs/stable/generated/pandas.get_dummies.html) или [DictVectorizer](http://scikit-learn.org/stable/modules/generated/sklearn.feature_extraction.DictVectorizer.html) из sklearn)."
   ]
  },
  {
   "cell_type": "code",
   "execution_count": null,
   "metadata": {},
   "outputs": [
    {
     "name": "stdout",
     "output_type": "stream",
     "text": [
      "Признаки после one-hot-encoding:\n",
      "   age  fnlwgt  education-num  capital-gain  capital-loss  hours-per-week  \\\n",
      "0   34  284843              9           594             0              60   \n",
      "1   40  190290             10             0             0              40   \n",
      "2   36  177858             13             0             0              40   \n",
      "3   22  184756             10             0             0              30   \n",
      "4   47  149700             13         15024             0              40   \n",
      "\n",
      "   workclass_Local-gov  workclass_Private  workclass_Self-emp-inc  \\\n",
      "0                 True              False                   False   \n",
      "1                False               True                   False   \n",
      "2                 True              False                   False   \n",
      "3                False               True                   False   \n",
      "4                False               True                   False   \n",
      "\n",
      "   workclass_Self-emp-not-inc  ...  relationship_Other-relative  \\\n",
      "0                       False  ...                        False   \n",
      "1                       False  ...                        False   \n",
      "2                       False  ...                        False   \n",
      "3                       False  ...                        False   \n",
      "4                       False  ...                        False   \n",
      "\n",
      "   relationship_Own-child  relationship_Unmarried  relationship_Wife  \\\n",
      "0                   False                   False              False   \n",
      "1                   False                   False              False   \n",
      "2                    True                   False              False   \n",
      "3                    True                   False              False   \n",
      "4                   False                   False              False   \n",
      "\n",
      "   race_Asian-Pac-Islander  race_Black  race_Other  race_White  sex_Male  \\\n",
      "0                    False        True       False       False      True   \n",
      "1                    False       False       False        True      True   \n",
      "2                    False       False       False        True      True   \n",
      "3                    False       False       False        True     False   \n",
      "4                    False       False       False        True      True   \n",
      "\n",
      "   >50K,<=50K_>50K  \n",
      "0            False  \n",
      "1            False  \n",
      "2            False  \n",
      "3            False  \n",
      "4             True  \n",
      "\n",
      "[5 rows x 57 columns]\n"
     ]
    }
   ],
   "source": [
    "# Выделение категориальных признаков\n",
    "cat_data = data_clean.select_dtypes(include=['object']).columns\n",
    "\n",
    "# Преобразование категориальных признаков с помощью one-hot-encoding\n",
    "data_clean_encoded = pd.get_dummies(data_clean, columns=cat_data, drop_first=True)\n",
    "\n",
    "# Проверка результата\n",
    "print(\"Признаки после one-hot-encoding:\")\n",
    "print(data_clean_encoded.head())\n"
   ]
  },
  {
   "cell_type": "code",
   "execution_count": null,
   "metadata": {},
   "outputs": [
    {
     "data": {
      "text/html": [
       "<div>\n",
       "<style scoped>\n",
       "    .dataframe tbody tr th:only-of-type {\n",
       "        vertical-align: middle;\n",
       "    }\n",
       "\n",
       "    .dataframe tbody tr th {\n",
       "        vertical-align: top;\n",
       "    }\n",
       "\n",
       "    .dataframe thead th {\n",
       "        text-align: right;\n",
       "    }\n",
       "</style>\n",
       "<table border=\"1\" class=\"dataframe\">\n",
       "  <thead>\n",
       "    <tr style=\"text-align: right;\">\n",
       "      <th></th>\n",
       "      <th>age</th>\n",
       "      <th>fnlwgt</th>\n",
       "      <th>education-num</th>\n",
       "      <th>capital-gain</th>\n",
       "      <th>capital-loss</th>\n",
       "      <th>hours-per-week</th>\n",
       "      <th>workclass_Local-gov</th>\n",
       "      <th>workclass_Private</th>\n",
       "      <th>workclass_Self-emp-inc</th>\n",
       "      <th>workclass_Self-emp-not-inc</th>\n",
       "      <th>...</th>\n",
       "      <th>relationship_Other-relative</th>\n",
       "      <th>relationship_Own-child</th>\n",
       "      <th>relationship_Unmarried</th>\n",
       "      <th>relationship_Wife</th>\n",
       "      <th>race_Asian-Pac-Islander</th>\n",
       "      <th>race_Black</th>\n",
       "      <th>race_Other</th>\n",
       "      <th>race_White</th>\n",
       "      <th>sex_Male</th>\n",
       "      <th>&gt;50K,&lt;=50K_&gt;50K</th>\n",
       "    </tr>\n",
       "  </thead>\n",
       "  <tbody>\n",
       "    <tr>\n",
       "      <th>0</th>\n",
       "      <td>34</td>\n",
       "      <td>284843</td>\n",
       "      <td>9</td>\n",
       "      <td>594</td>\n",
       "      <td>0</td>\n",
       "      <td>60</td>\n",
       "      <td>True</td>\n",
       "      <td>False</td>\n",
       "      <td>False</td>\n",
       "      <td>False</td>\n",
       "      <td>...</td>\n",
       "      <td>False</td>\n",
       "      <td>False</td>\n",
       "      <td>False</td>\n",
       "      <td>False</td>\n",
       "      <td>False</td>\n",
       "      <td>True</td>\n",
       "      <td>False</td>\n",
       "      <td>False</td>\n",
       "      <td>True</td>\n",
       "      <td>False</td>\n",
       "    </tr>\n",
       "    <tr>\n",
       "      <th>1</th>\n",
       "      <td>40</td>\n",
       "      <td>190290</td>\n",
       "      <td>10</td>\n",
       "      <td>0</td>\n",
       "      <td>0</td>\n",
       "      <td>40</td>\n",
       "      <td>False</td>\n",
       "      <td>True</td>\n",
       "      <td>False</td>\n",
       "      <td>False</td>\n",
       "      <td>...</td>\n",
       "      <td>False</td>\n",
       "      <td>False</td>\n",
       "      <td>False</td>\n",
       "      <td>False</td>\n",
       "      <td>False</td>\n",
       "      <td>False</td>\n",
       "      <td>False</td>\n",
       "      <td>True</td>\n",
       "      <td>True</td>\n",
       "      <td>False</td>\n",
       "    </tr>\n",
       "    <tr>\n",
       "      <th>2</th>\n",
       "      <td>36</td>\n",
       "      <td>177858</td>\n",
       "      <td>13</td>\n",
       "      <td>0</td>\n",
       "      <td>0</td>\n",
       "      <td>40</td>\n",
       "      <td>True</td>\n",
       "      <td>False</td>\n",
       "      <td>False</td>\n",
       "      <td>False</td>\n",
       "      <td>...</td>\n",
       "      <td>False</td>\n",
       "      <td>True</td>\n",
       "      <td>False</td>\n",
       "      <td>False</td>\n",
       "      <td>False</td>\n",
       "      <td>False</td>\n",
       "      <td>False</td>\n",
       "      <td>True</td>\n",
       "      <td>True</td>\n",
       "      <td>False</td>\n",
       "    </tr>\n",
       "    <tr>\n",
       "      <th>3</th>\n",
       "      <td>22</td>\n",
       "      <td>184756</td>\n",
       "      <td>10</td>\n",
       "      <td>0</td>\n",
       "      <td>0</td>\n",
       "      <td>30</td>\n",
       "      <td>False</td>\n",
       "      <td>True</td>\n",
       "      <td>False</td>\n",
       "      <td>False</td>\n",
       "      <td>...</td>\n",
       "      <td>False</td>\n",
       "      <td>True</td>\n",
       "      <td>False</td>\n",
       "      <td>False</td>\n",
       "      <td>False</td>\n",
       "      <td>False</td>\n",
       "      <td>False</td>\n",
       "      <td>True</td>\n",
       "      <td>False</td>\n",
       "      <td>False</td>\n",
       "    </tr>\n",
       "    <tr>\n",
       "      <th>4</th>\n",
       "      <td>47</td>\n",
       "      <td>149700</td>\n",
       "      <td>13</td>\n",
       "      <td>15024</td>\n",
       "      <td>0</td>\n",
       "      <td>40</td>\n",
       "      <td>False</td>\n",
       "      <td>True</td>\n",
       "      <td>False</td>\n",
       "      <td>False</td>\n",
       "      <td>...</td>\n",
       "      <td>False</td>\n",
       "      <td>False</td>\n",
       "      <td>False</td>\n",
       "      <td>False</td>\n",
       "      <td>False</td>\n",
       "      <td>False</td>\n",
       "      <td>False</td>\n",
       "      <td>True</td>\n",
       "      <td>True</td>\n",
       "      <td>True</td>\n",
       "    </tr>\n",
       "  </tbody>\n",
       "</table>\n",
       "<p>5 rows × 57 columns</p>\n",
       "</div>"
      ],
      "text/plain": [
       "   age  fnlwgt  education-num  capital-gain  capital-loss  hours-per-week  \\\n",
       "0   34  284843              9           594             0              60   \n",
       "1   40  190290             10             0             0              40   \n",
       "2   36  177858             13             0             0              40   \n",
       "3   22  184756             10             0             0              30   \n",
       "4   47  149700             13         15024             0              40   \n",
       "\n",
       "   workclass_Local-gov  workclass_Private  workclass_Self-emp-inc  \\\n",
       "0                 True              False                   False   \n",
       "1                False               True                   False   \n",
       "2                 True              False                   False   \n",
       "3                False               True                   False   \n",
       "4                False               True                   False   \n",
       "\n",
       "   workclass_Self-emp-not-inc  ...  relationship_Other-relative  \\\n",
       "0                       False  ...                        False   \n",
       "1                       False  ...                        False   \n",
       "2                       False  ...                        False   \n",
       "3                       False  ...                        False   \n",
       "4                       False  ...                        False   \n",
       "\n",
       "   relationship_Own-child  relationship_Unmarried  relationship_Wife  \\\n",
       "0                   False                   False              False   \n",
       "1                   False                   False              False   \n",
       "2                    True                   False              False   \n",
       "3                    True                   False              False   \n",
       "4                   False                   False              False   \n",
       "\n",
       "   race_Asian-Pac-Islander  race_Black  race_Other  race_White  sex_Male  \\\n",
       "0                    False        True       False       False      True   \n",
       "1                    False       False       False        True      True   \n",
       "2                    False       False       False        True      True   \n",
       "3                    False       False       False        True     False   \n",
       "4                    False       False       False        True      True   \n",
       "\n",
       "   >50K,<=50K_>50K  \n",
       "0            False  \n",
       "1            False  \n",
       "2            False  \n",
       "3            False  \n",
       "4             True  \n",
       "\n",
       "[5 rows x 57 columns]"
      ]
     },
     "execution_count": 89,
     "metadata": {},
     "output_type": "execute_result"
    }
   ],
   "source": [
    "data_clean_encoded.head()"
   ]
  },
  {
   "cell_type": "markdown",
   "metadata": {},
   "source": [
    "**Задание 10 (1 балл)** Добавьте к масштабированным вещественным признакам закодированные категориальные и обучите алгоритмы с наилучшими гиперпараметрами из предыдущего пункта. Дало ли добавление новых признаков прирост качества? Измеряйте качество как и раньше используя 5-Fold CV. Для этого удобно воспользоваться функцией [cross_val_score](https://scikit-learn.org/stable/modules/generated/sklearn.model_selection.cross_val_score.html)."
   ]
  },
  {
   "cell_type": "code",
   "execution_count": null,
   "metadata": {},
   "outputs": [
    {
     "name": "stdout",
     "output_type": "stream",
     "text": [
      "Объединенные признаки:\n",
      "   age  fnlwgt  education-num  capital-gain  capital-loss  hours-per-week  \\\n",
      "0   34  284843              9           594             0              60   \n",
      "1   40  190290             10             0             0              40   \n",
      "2   36  177858             13             0             0              40   \n",
      "3   22  184756             10             0             0              30   \n",
      "4   47  149700             13         15024             0              40   \n",
      "\n",
      "   age  fnlwgt  education-num  capital-gain  ...  relationship_Not-in-family  \\\n",
      "0   34  284843              9           594  ...                        True   \n",
      "1   40  190290             10             0  ...                        True   \n",
      "2   36  177858             13             0  ...                       False   \n",
      "3   22  184756             10             0  ...                       False   \n",
      "4   47  149700             13         15024  ...                       False   \n",
      "\n",
      "   relationship_Other-relative  relationship_Own-child  \\\n",
      "0                        False                   False   \n",
      "1                        False                   False   \n",
      "2                        False                    True   \n",
      "3                        False                    True   \n",
      "4                        False                   False   \n",
      "\n",
      "   relationship_Unmarried  relationship_Wife  race_Asian-Pac-Islander  \\\n",
      "0                   False              False                    False   \n",
      "1                   False              False                    False   \n",
      "2                   False              False                    False   \n",
      "3                   False              False                    False   \n",
      "4                   False              False                    False   \n",
      "\n",
      "   race_Black  race_Other  race_White  sex_Male  \n",
      "0        True       False       False      True  \n",
      "1       False       False        True      True  \n",
      "2       False       False        True      True  \n",
      "3       False       False        True     False  \n",
      "4       False       False        True      True  \n",
      "\n",
      "[5 rows x 62 columns]\n"
     ]
    }
   ],
   "source": [
    "# Объединение числовых и категориальных признаков\n",
    "X = pd.concat([num_data, data_clean_encoded.drop(['>50K,<=50K_>50K'], axis=1)], axis=1)\n",
    "y = income\n",
    "\n",
    "# Проверка результата\n",
    "print(\"Объединенные признаки:\")\n",
    "print(X.head())"
   ]
  },
  {
   "cell_type": "code",
   "execution_count": null,
   "metadata": {},
   "outputs": [
    {
     "name": "stdout",
     "output_type": "stream",
     "text": [
      "Оценка модели: Logistic Regression\n"
     ]
    },
    {
     "name": "stderr",
     "output_type": "stream",
     "text": [
      "/Users/maria/Desktop/Python/PythonDataAnalysis/venv_name/lib/python3.10/site-packages/sklearn/linear_model/_logistic.py:469: ConvergenceWarning: lbfgs failed to converge (status=1):\n",
      "STOP: TOTAL NO. of ITERATIONS REACHED LIMIT.\n",
      "\n",
      "Increase the number of iterations (max_iter) or scale the data as shown in:\n",
      "    https://scikit-learn.org/stable/modules/preprocessing.html\n",
      "Please also refer to the documentation for alternative solver options:\n",
      "    https://scikit-learn.org/stable/modules/linear_model.html#logistic-regression\n",
      "  n_iter_i = _check_optimize_result(\n",
      "/Users/maria/Desktop/Python/PythonDataAnalysis/venv_name/lib/python3.10/site-packages/sklearn/linear_model/_logistic.py:469: ConvergenceWarning: lbfgs failed to converge (status=1):\n",
      "STOP: TOTAL NO. of ITERATIONS REACHED LIMIT.\n",
      "\n",
      "Increase the number of iterations (max_iter) or scale the data as shown in:\n",
      "    https://scikit-learn.org/stable/modules/preprocessing.html\n",
      "Please also refer to the documentation for alternative solver options:\n",
      "    https://scikit-learn.org/stable/modules/linear_model.html#logistic-regression\n",
      "  n_iter_i = _check_optimize_result(\n",
      "/Users/maria/Desktop/Python/PythonDataAnalysis/venv_name/lib/python3.10/site-packages/sklearn/linear_model/_logistic.py:469: ConvergenceWarning: lbfgs failed to converge (status=1):\n",
      "STOP: TOTAL NO. of ITERATIONS REACHED LIMIT.\n",
      "\n",
      "Increase the number of iterations (max_iter) or scale the data as shown in:\n",
      "    https://scikit-learn.org/stable/modules/preprocessing.html\n",
      "Please also refer to the documentation for alternative solver options:\n",
      "    https://scikit-learn.org/stable/modules/linear_model.html#logistic-regression\n",
      "  n_iter_i = _check_optimize_result(\n",
      "/Users/maria/Desktop/Python/PythonDataAnalysis/venv_name/lib/python3.10/site-packages/sklearn/linear_model/_logistic.py:469: ConvergenceWarning: lbfgs failed to converge (status=1):\n",
      "STOP: TOTAL NO. of ITERATIONS REACHED LIMIT.\n",
      "\n",
      "Increase the number of iterations (max_iter) or scale the data as shown in:\n",
      "    https://scikit-learn.org/stable/modules/preprocessing.html\n",
      "Please also refer to the documentation for alternative solver options:\n",
      "    https://scikit-learn.org/stable/modules/linear_model.html#logistic-regression\n",
      "  n_iter_i = _check_optimize_result(\n",
      "/Users/maria/Desktop/Python/PythonDataAnalysis/venv_name/lib/python3.10/site-packages/sklearn/linear_model/_logistic.py:469: ConvergenceWarning: lbfgs failed to converge (status=1):\n",
      "STOP: TOTAL NO. of ITERATIONS REACHED LIMIT.\n",
      "\n",
      "Increase the number of iterations (max_iter) or scale the data as shown in:\n",
      "    https://scikit-learn.org/stable/modules/preprocessing.html\n",
      "Please also refer to the documentation for alternative solver options:\n",
      "    https://scikit-learn.org/stable/modules/linear_model.html#logistic-regression\n",
      "  n_iter_i = _check_optimize_result(\n"
     ]
    },
    {
     "name": "stdout",
     "output_type": "stream",
     "text": [
      "Среднее значение accuracy на кросс-валидации: 0.8387\n",
      "Accuracy на тестовой выборке: 0.8085\n",
      "--------------------------------------------------\n",
      "Оценка модели: KNN\n",
      "Среднее значение accuracy на кросс-валидации: 0.7784\n",
      "Accuracy на тестовой выборке: 0.7801\n",
      "--------------------------------------------------\n",
      "Оценка модели: Random Forest\n",
      "Среднее значение accuracy на кросс-валидации: 0.8497\n",
      "Accuracy на тестовой выборке: 0.7961\n",
      "--------------------------------------------------\n",
      "Оценка модели: Gradient Boosting\n",
      "Среднее значение accuracy на кросс-валидации: 0.8577\n",
      "Accuracy на тестовой выборке: 0.8248\n",
      "--------------------------------------------------\n"
     ]
    }
   ],
   "source": [
    "# Определение схемы кросс-валидации\n",
    "cv = KFold(n_splits=5, shuffle=True, random_state=42)\n",
    "\n",
    "# Список моделей с наилучшими гиперпараметрами\n",
    "models = [\n",
    "    ('Logistic Regression', LogisticRegression(C=1, penalty='l2', random_state=42, max_iter=1000)),\n",
    "    ('KNN', KNeighborsClassifier(n_neighbors=30)),\n",
    "    ('Random Forest', RandomForestClassifier(n_estimators=200, criterion='gini', max_features='sqrt', random_state=42)),\n",
    "    ('Gradient Boosting', GradientBoostingClassifier(n_estimators=100, criterion='friedman_mse', max_features='sqrt', random_state=42))\n",
    "]\n",
    "\n",
    "# Обучение моделей и измерение качества\n",
    "for model_name, model in models:\n",
    "    print(f\"Оценка модели: {model_name}\")\n",
    "    \n",
    "    # Оценка качества с помощью 5-Fold CV\n",
    "    cv_scores = cross_val_score(model, X, y, cv=cv, scoring='accuracy', n_jobs=-1)\n",
    "    print(f\"Среднее значение accuracy на кросс-валидации: {cv_scores.mean():.4f}\")\n",
    "    \n",
    "    # Оценка модели на тестовой выборке\n",
    "    model.fit(X_train, y_train)\n",
    "    y_pred = model.predict(X_test)\n",
    "    test_accuracy = accuracy_score(y_test, y_pred)\n",
    "    print(f\"Accuracy на тестовой выборке: {test_accuracy:.4f}\")\n",
    "    print(\"-\" * 50)"
   ]
  },
  {
   "cell_type": "markdown",
   "metadata": {},
   "source": [
    "Отличается ли теперь наилучший классификатор от наилучшего в предыдущем пункте?"
   ]
  },
  {
   "cell_type": "markdown",
   "metadata": {},
   "source": [
    "- Модель с градиентным бустингом теперь немного переобучилась и показывает на тестовой выборке результат похуже, чем на кросс-валидации. Но в сравнении с прочими моделями она все еще самая лучшая (на кросс-валидации значение аж 0,86)."
   ]
  }
 ],
 "metadata": {
  "kernelspec": {
   "display_name": "venv",
   "language": "python",
   "name": "python3"
  },
  "language_info": {
   "codemirror_mode": {
    "name": "ipython",
    "version": 3
   },
   "file_extension": ".py",
   "mimetype": "text/x-python",
   "name": "python",
   "nbconvert_exporter": "python",
   "pygments_lexer": "ipython3",
   "version": "3.10.0"
  }
 },
 "nbformat": 4,
 "nbformat_minor": 2
}
